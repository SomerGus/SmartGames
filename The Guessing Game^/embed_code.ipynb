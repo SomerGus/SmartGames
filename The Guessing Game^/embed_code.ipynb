{
 "cells": [
  {
   "cell_type": "code",
   "execution_count": 13,
   "id": "clinical-fossil",
   "metadata": {},
   "outputs": [],
   "source": [
    "from ipywidgets import *\n",
    "import numpy as np\n",
    "import random as random"
   ]
  },
  {
   "cell_type": "code",
   "execution_count": 14,
   "id": "noted-wisdom",
   "metadata": {
    "scrolled": true
   },
   "outputs": [
    {
     "data": {
      "application/vnd.jupyter.widget-view+json": {
       "model_id": "e820b0bcb8224f1bae751e36a7e389c1",
       "version_major": 2,
       "version_minor": 0
      },
      "text/plain": [
       "HBox(children=(Button(description='0', style=ButtonStyle()), Button(description='1', style=ButtonStyle())))"
      ]
     },
     "metadata": {},
     "output_type": "display_data"
    }
   ],
   "source": [
    "btn_zero = Button(description='0')\n",
    "btn_one = Button(description='1')\n",
    "btns = HBox([ btn_zero, btn_one ])\n",
    "btns"
   ]
  },
  {
   "cell_type": "code",
   "execution_count": 15,
   "id": "little-encyclopedia",
   "metadata": {
    "scrolled": false
   },
   "outputs": [
    {
     "data": {
      "application/vnd.jupyter.widget-view+json": {
       "model_id": "12aea53e242e4336a15ed9e1aa56cef7",
       "version_major": 2,
       "version_minor": 0
      },
      "text/plain": [
       "VBox(children=(IntProgress(value=0, bar_style='success', description='You:', max=50), IntProgress(value=0, bar…"
      ]
     },
     "metadata": {},
     "output_type": "display_data"
    }
   ],
   "source": [
    "user_score = IntProgress( value=0, min=0, max=50, description='You:', bar_style='success')\n",
    "bot_score = IntProgress( value=0, min=0, max=50, description='Bot:', bar_style='danger')\n",
    "scoreboard = VBox([ user_score, bot_score ])\n",
    "scoreboard"
   ]
  },
  {
   "cell_type": "code",
   "execution_count": 16,
   "id": "obvious-westminster",
   "metadata": {},
   "outputs": [],
   "source": [
    "def click_zero(b):\n",
    "    update_game(0)\n",
    "btn_zero.on_click( click_zero )"
   ]
  },
  {
   "cell_type": "code",
   "execution_count": 17,
   "id": "perceived-harvey",
   "metadata": {},
   "outputs": [],
   "source": [
    "def click_one(b):\n",
    "    update_game(1)\n",
    "btn_one.on_click( click_one )"
   ]
  },
  {
   "cell_type": "code",
   "execution_count": 19,
   "id": "hybrid-comparative",
   "metadata": {},
   "outputs": [
    {
     "data": {
      "application/vnd.jupyter.widget-view+json": {
       "model_id": "686c334dacd34862a68a31352b213ed4",
       "version_major": 2,
       "version_minor": 0
      },
      "text/plain": [
       "HTML(value=\"<h1 style='color:green'> You Win!</h1>\", layout=Layout(visibility='hidden'))"
      ]
     },
     "metadata": {},
     "output_type": "display_data"
    }
   ],
   "source": [
    "final_msg= HTML(\"<h1 style='color:green'> You Win!</h1>\")\n",
    "final_msg.layout.visibility= \"hidden\"\n",
    "final_msg"
   ]
  },
  {
   "cell_type": "code",
   "execution_count": 20,
   "id": "leading-violin",
   "metadata": {},
   "outputs": [],
   "source": [
    "user_history=[]\n",
    "user_history.append(random.randint(0,1))"
   ]
  },
  {
   "cell_type": "code",
   "execution_count": 21,
   "id": "postal-pencil",
   "metadata": {},
   "outputs": [],
   "source": [
    "def update_game( user_choice ):\n",
    "    prob= sum(user_history)/len(user_history)\n",
    "    bot_choice = np.random.binomial(1, prob)\n",
    "    user_history.append(user_choice)\n",
    "    if bot_choice == user_choice:\n",
    "        bot_score.value +=1\n",
    "    else:\n",
    "        user_score.value +=1\n",
    "        \n",
    "    if user_score.value == 50 or bot_score.value == 50:\n",
    "        if bot_score.value==50:\n",
    "            final_msg.value= \"<h1 style='color:red'> You Lose! </h1>\"\n",
    "        final_msg.layout.visibility= \"visible\"\n",
    "        btn_zero.disabled=True\n",
    "        btn_one.disabled=True\n",
    "        \n",
    "            "
   ]
  },
  {
   "cell_type": "code",
   "execution_count": 22,
   "id": "automated-lotus",
   "metadata": {},
   "outputs": [
    {
     "data": {
      "application/vnd.jupyter.widget-view+json": {
       "model_id": "af49f7c91a1946afa1703b41ca963654",
       "version_major": 2,
       "version_minor": 0
      },
      "text/plain": [
       "VBox(children=(HBox(children=(VBox(children=(IntProgress(value=0, bar_style='success', description='You:', max…"
      ]
     },
     "metadata": {},
     "output_type": "display_data"
    }
   ],
   "source": [
    "game_box= VBox([HBox([scoreboard, final_msg]), btns])\n",
    "game_box"
   ]
  },
  {
   "cell_type": "code",
   "execution_count": 23,
   "id": "superior-taylor",
   "metadata": {},
   "outputs": [
    {
     "data": {
      "application/vnd.jupyter.widget-view+json": {
       "model_id": "af49f7c91a1946afa1703b41ca963654",
       "version_major": 2,
       "version_minor": 0
      },
      "text/plain": [
       "VBox(children=(HBox(children=(VBox(children=(IntProgress(value=0, bar_style='success', description='You:', max…"
      ]
     },
     "metadata": {},
     "output_type": "display_data"
    }
   ],
   "source": [
    "display(game_box)"
   ]
  },
  {
   "cell_type": "code",
   "execution_count": null,
   "id": "sharp-exhibit",
   "metadata": {},
   "outputs": [],
   "source": []
  },
  {
   "cell_type": "code",
   "execution_count": null,
   "id": "romance-sword",
   "metadata": {},
   "outputs": [],
   "source": []
  },
  {
   "cell_type": "code",
   "execution_count": null,
   "id": "applicable-restaurant",
   "metadata": {},
   "outputs": [],
   "source": []
  }
 ],
 "metadata": {
  "kernelspec": {
   "display_name": "Python 3",
   "language": "python",
   "name": "python3"
  },
  "language_info": {
   "codemirror_mode": {
    "name": "ipython",
    "version": 3
   },
   "file_extension": ".py",
   "mimetype": "text/x-python",
   "name": "python",
   "nbconvert_exporter": "python",
   "pygments_lexer": "ipython3",
   "version": "3.7.6"
  }
 },
 "nbformat": 4,
 "nbformat_minor": 5
}
